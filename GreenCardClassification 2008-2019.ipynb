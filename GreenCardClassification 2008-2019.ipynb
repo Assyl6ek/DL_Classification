{
 "cells": [
  {
   "cell_type": "markdown",
   "metadata": {
    "id": "Q_HaC2tsy5wV"
   },
   "source": [
    "#List of Libraries used for this project"
   ]
  },
  {
   "cell_type": "code",
   "execution_count": 223,
   "metadata": {
    "executionInfo": {
     "elapsed": 317,
     "status": "ok",
     "timestamp": 1639079307984,
     "user": {
      "displayName": "Daniyar Imangaliyev",
      "photoUrl": "https://lh3.googleusercontent.com/a/default-user=s64",
      "userId": "11406780539198279651"
     },
     "user_tz": -360
    },
    "id": "9LgSpQ1zIguJ"
   },
   "outputs": [],
   "source": [
    "import numpy as np\n",
    "import pandas as pd\n",
    "from numpy import random\n",
    "from sklearn.preprocessing import MinMaxScaler\n",
    "from sklearn.preprocessing import StandardScaler\n",
    "from sklearn.metrics import confusion_matrix\n",
    "from sklearn.metrics import classification_report\n",
    "from sklearn.model_selection import train_test_split\n",
    "from sklearn.utils import shuffle"
   ]
  },
  {
   "cell_type": "code",
   "execution_count": 224,
   "metadata": {
    "colab": {
     "base_uri": "https://localhost:8080/"
    },
    "executionInfo": {
     "elapsed": 4176,
     "status": "ok",
     "timestamp": 1639079312650,
     "user": {
      "displayName": "Daniyar Imangaliyev",
      "photoUrl": "https://lh3.googleusercontent.com/a/default-user=s64",
      "userId": "11406780539198279651"
     },
     "user_tz": -360
    },
    "id": "khXXlCmBVaAE",
    "outputId": "eb15e278-6b43-4317-b5aa-1a1f867d6e81"
   },
   "outputs": [
    {
     "name": "stdout",
     "output_type": "stream",
     "text": [
      "Requirement already satisfied: scikit-multilearn in /usr/local/lib/python3.7/dist-packages (0.2.0)\n"
     ]
    }
   ],
   "source": [
    "!pip install scikit-multilearn"
   ]
  },
  {
   "cell_type": "code",
   "execution_count": 225,
   "metadata": {
    "colab": {
     "base_uri": "https://localhost:8080/"
    },
    "executionInfo": {
     "elapsed": 2058,
     "status": "ok",
     "timestamp": 1639079314703,
     "user": {
      "displayName": "Daniyar Imangaliyev",
      "photoUrl": "https://lh3.googleusercontent.com/a/default-user=s64",
      "userId": "11406780539198279651"
     },
     "user_tz": -360
    },
    "id": "ajM14xVQIlvn",
    "outputId": "71fa7524-d7af-489c-ea83-bcdc197f1484"
   },
   "outputs": [
    {
     "name": "stdout",
     "output_type": "stream",
     "text": [
      "Drive already mounted at /content/drive; to attempt to forcibly remount, call drive.mount(\"/content/drive\", force_remount=True).\n"
     ]
    }
   ],
   "source": [
    "from google.colab import drive\n",
    "drive.mount('/content/drive')"
   ]
  },
  {
   "cell_type": "markdown",
   "metadata": {
    "id": "pNHzXszwx7uy"
   },
   "source": [
    "#Loading Data Set \n",
    "Data Set is taken from: [US Department of Labor](https://dol.gov/agencies/eta/foreign-labor/performance)\n",
    "We have combinet 2 dataset in order to increse accuracy of our model, because data in one file was bnot enough"
   ]
  },
  {
   "cell_type": "code",
   "execution_count": 226,
   "metadata": {
    "colab": {
     "base_uri": "https://localhost:8080/"
    },
    "executionInfo": {
     "elapsed": 39396,
     "status": "ok",
     "timestamp": 1639079354096,
     "user": {
      "displayName": "Daniyar Imangaliyev",
      "photoUrl": "https://lh3.googleusercontent.com/a/default-user=s64",
      "userId": "11406780539198279651"
     },
     "user_tz": -360
    },
    "id": "uYXT13brIguN",
    "outputId": "06154354-f885-4131-a086-b70598df7bb4"
   },
   "outputs": [
    {
     "name": "stderr",
     "output_type": "stream",
     "text": [
      "/usr/local/lib/python3.7/dist-packages/IPython/core/interactiveshell.py:2718: DtypeWarning: Columns (16,122) have mixed types.Specify dtype option on import or set low_memory=False.\n",
      "  interactivity=interactivity, compiler=compiler, result=result)\n",
      "/usr/local/lib/python3.7/dist-packages/IPython/core/interactiveshell.py:2718: DtypeWarning: Columns (0,1,2,3,4,5,6,7,8,9,10,11,12,13,14,15,16,19,20,21,22,23,24,25,26,27,28,29,30,31,32,33,34,35,36,37,38,39,40,41,42,43,45,46,48,49,50,51,52,54,55,57,58,59,60,61,62,63,64,65,66,67,68,69,70,71,72,73,74,75,76,77,78,79,80,81,82,83,84,85,86,87,88,89,90,91,92,93,94,95,96,97,98,99,100,101,102,103,104,105,106,107,108,109,110,111,112,114,115,116,117,118,119,120,121,122,123,124) have mixed types.Specify dtype option on import or set low_memory=False.\n",
      "  interactivity=interactivity, compiler=compiler, result=result)\n"
     ]
    }
   ],
   "source": [
    "# df1 = pd.read_csv(\"/content/drive/MyDrive/Colab Notebooks/Deep learning/PERM 2008-2019/PERM_2008.csv\", sep = ';')\n",
    "# df2 = pd.read_csv(\"/content/drive/MyDrive/Colab Notebooks/Deep learning/PERM 2008-2019/PERM_2009.csv\", sep = ';')\n",
    "# df3 = pd.read_csv(\"/content/drive/MyDrive/Colab Notebooks/Deep learning/PERM 2008-2019/PERM_2010.csv\", sep = ';')\n",
    "# df4 = pd.read_csv(\"/content/drive/MyDrive/Colab Notebooks/Deep learning/PERM 2008-2019/PERM_2011.csv\", sep = ';')\n",
    "# df5 = pd.read_csv(\"/content/drive/MyDrive/Colab Notebooks/Deep learning/PERM 2008-2019/PERM_2012.csv\", sep = ';')\n",
    "# df6 = pd.read_csv(\"/content/drive/MyDrive/Colab Notebooks/Deep learning/PERM 2008-2019/PERM_2013.csv\", sep = ';')\n",
    "# df7 = pd.read_csv(\"/content/drive/MyDrive/Colab Notebooks/Deep learning/PERM 2008-2019/PERM_2014.csv\", sep = ';')\n",
    "# df8 = pd.read_csv(\"/content/drive/MyDrive/Colab Notebooks/Deep learning/PERM 2008-2019/PERM_2015.csv\", sep = ';')\n",
    "df9 = pd.read_csv(\"/content/drive/MyDrive/Colab Notebooks/Deep learning/PERM 2008-2019/PERM_2016.csv\", sep = ';')\n",
    "df10 = pd.read_csv(\"/content/drive/MyDrive/Colab Notebooks/Deep learning/PERM 2008-2019/PERM_2017.csv\", sep = ';')\n",
    "df11 = pd.read_csv(\"/content/drive/MyDrive/Colab Notebooks/Deep learning/PERM 2008-2019/PERM_2018.csv\", sep = ';')\n",
    "df12 = pd.read_csv(\"/content/drive/MyDrive/Colab Notebooks/Deep learning/PERM 2008-2019/PERM_2019.csv\", sep = ';')"
   ]
  },
  {
   "cell_type": "code",
   "execution_count": 227,
   "metadata": {
    "executionInfo": {
     "elapsed": 6,
     "status": "ok",
     "timestamp": 1639079354097,
     "user": {
      "displayName": "Daniyar Imangaliyev",
      "photoUrl": "https://lh3.googleusercontent.com/a/default-user=s64",
      "userId": "11406780539198279651"
     },
     "user_tz": -360
    },
    "id": "inrkZE1jZAqg"
   },
   "outputs": [],
   "source": [
    "columns = [\n",
    "                   \"JOB_INFO_JOB_TITLE\", \n",
    "                   \"JOB_INFO_EDUCATION\",\n",
    "                   \"PW_AMOUNT_9089\", \n",
    "                   \"PW_UNIT_OF_PAY_9089\",\n",
    "                   \"JOB_INFO_EXPERIENCE_NUM_MONTHS\", \n",
    "                   'COUNTRY_OF_CITIZENSHIP', \n",
    "                   'CLASS_OF_ADMISSION',\n",
    "                   \"CASE_STATUS\"]"
   ]
  },
  {
   "cell_type": "code",
   "execution_count": 228,
   "metadata": {
    "colab": {
     "base_uri": "https://localhost:8080/"
    },
    "executionInfo": {
     "elapsed": 855,
     "status": "ok",
     "timestamp": 1639079354947,
     "user": {
      "displayName": "Daniyar Imangaliyev",
      "photoUrl": "https://lh3.googleusercontent.com/a/default-user=s64",
      "userId": "11406780539198279651"
     },
     "user_tz": -360
    },
    "id": "2BI9jQddZQNw",
    "outputId": "91cadb4f-c04a-4c8c-f271-b1c40e1995fb"
   },
   "outputs": [
    {
     "data": {
      "text/plain": [
       "(412893, 8)"
      ]
     },
     "execution_count": 228,
     "metadata": {},
     "output_type": "execute_result"
    }
   ],
   "source": [
    "short_df9 = df9[columns]\n",
    "short_df10 = df10[columns]\n",
    "short_df11 = df11[columns]\n",
    "short_df12 = df12[columns]\n",
    "df = pd.concat([short_df9, short_df10, short_df11, short_df12], axis=0)\n",
    "df['JOB_INFO_EXPERIENCE_NUM_MONTHS'] = df['JOB_INFO_EXPERIENCE_NUM_MONTHS'].fillna(0)\n",
    "df = df.dropna()\n",
    "df.shape"
   ]
  },
  {
   "cell_type": "markdown",
   "metadata": {
    "id": "QcbJcSBVzBCY"
   },
   "source": [
    "#Custom function to convert string columns to int "
   ]
  },
  {
   "cell_type": "code",
   "execution_count": 229,
   "metadata": {
    "executionInfo": {
     "elapsed": 5,
     "status": "ok",
     "timestamp": 1639079354947,
     "user": {
      "displayName": "Daniyar Imangaliyev",
      "photoUrl": "https://lh3.googleusercontent.com/a/default-user=s64",
      "userId": "11406780539198279651"
     },
     "user_tz": -360
    },
    "id": "EWImAHzGRK_i"
   },
   "outputs": [],
   "source": [
    "def convert_to_int(a):\n",
    "  if '$' in a:\n",
    "    a = a.replace('$', '')\n",
    "  if ' ' in a:\n",
    "    a = a.replace(' ', '')\n",
    "  if ',' in a:\n",
    "    a = a.split(',')[0]\n",
    "  if '.' in a:\n",
    "    a = a.split('.')[0]\n",
    "  try:\n",
    "    a = int(a)\n",
    "  except:\n",
    "    a = None\n",
    "  return a"
   ]
  },
  {
   "cell_type": "code",
   "execution_count": 230,
   "metadata": {
    "executionInfo": {
     "elapsed": 459,
     "status": "ok",
     "timestamp": 1639079355402,
     "user": {
      "displayName": "Daniyar Imangaliyev",
      "photoUrl": "https://lh3.googleusercontent.com/a/default-user=s64",
      "userId": "11406780539198279651"
     },
     "user_tz": -360
    },
    "id": "QLl7AK7RIguP"
   },
   "outputs": [],
   "source": [
    "df = df[df['PW_AMOUNT_9089'].notna()]\n",
    "df['PW_AMOUNT_9089'] = df['PW_AMOUNT_9089'].apply(lambda x: convert_to_int(x))"
   ]
  },
  {
   "cell_type": "code",
   "execution_count": 231,
   "metadata": {
    "colab": {
     "base_uri": "https://localhost:8080/"
    },
    "executionInfo": {
     "elapsed": 3,
     "status": "ok",
     "timestamp": 1639079355403,
     "user": {
      "displayName": "Daniyar Imangaliyev",
      "photoUrl": "https://lh3.googleusercontent.com/a/default-user=s64",
      "userId": "11406780539198279651"
     },
     "user_tz": -360
    },
    "id": "aV0ZXpL5g669",
    "outputId": "438597e7-32d8-4d49-d923-b434b663f3dd"
   },
   "outputs": [
    {
     "data": {
      "text/plain": [
       "(412891, 8)"
      ]
     },
     "execution_count": 231,
     "metadata": {},
     "output_type": "execute_result"
    }
   ],
   "source": [
    "df = df.dropna()\n",
    "df.shape"
   ]
  },
  {
   "cell_type": "markdown",
   "metadata": {
    "id": "N4hrRYjQzMCR"
   },
   "source": [
    "#**About Dataset**\n",
    "There is more that 150 columns and around 600 000 rows\n",
    "\n",
    "After Data analysis next attributes were taken\n",
    "\n",
    "---\n",
    "#List of attributes used for the project"
   ]
  },
  {
   "cell_type": "code",
   "execution_count": 232,
   "metadata": {
    "colab": {
     "base_uri": "https://localhost:8080/",
     "height": 330
    },
    "executionInfo": {
     "elapsed": 348,
     "status": "ok",
     "timestamp": 1639079355748,
     "user": {
      "displayName": "Daniyar Imangaliyev",
      "photoUrl": "https://lh3.googleusercontent.com/a/default-user=s64",
      "userId": "11406780539198279651"
     },
     "user_tz": -360
    },
    "id": "sxiXGK16IguP",
    "outputId": "38426cbd-67f6-4bed-e699-6ab2d520d064"
   },
   "outputs": [
    {
     "name": "stdout",
     "output_type": "stream",
     "text": [
      "(412891, 8)\n"
     ]
    },
    {
     "data": {
      "text/html": [
       "<div>\n",
       "<style scoped>\n",
       "    .dataframe tbody tr th:only-of-type {\n",
       "        vertical-align: middle;\n",
       "    }\n",
       "\n",
       "    .dataframe tbody tr th {\n",
       "        vertical-align: top;\n",
       "    }\n",
       "\n",
       "    .dataframe thead th {\n",
       "        text-align: right;\n",
       "    }\n",
       "</style>\n",
       "<table border=\"1\" class=\"dataframe\">\n",
       "  <thead>\n",
       "    <tr style=\"text-align: right;\">\n",
       "      <th></th>\n",
       "      <th>JOB_INFO_JOB_TITLE</th>\n",
       "      <th>JOB_INFO_EDUCATION</th>\n",
       "      <th>PW_AMOUNT_9089</th>\n",
       "      <th>PW_UNIT_OF_PAY_9089</th>\n",
       "      <th>JOB_INFO_EXPERIENCE_NUM_MONTHS</th>\n",
       "      <th>COUNTRY_OF_CITIZENSHIP</th>\n",
       "      <th>CLASS_OF_ADMISSION</th>\n",
       "      <th>CASE_STATUS</th>\n",
       "    </tr>\n",
       "  </thead>\n",
       "  <tbody>\n",
       "    <tr>\n",
       "      <th>0</th>\n",
       "      <td>Software Engineer</td>\n",
       "      <td>Bachelor's</td>\n",
       "      <td>88.0</td>\n",
       "      <td>Year</td>\n",
       "      <td>36.0</td>\n",
       "      <td>TURKEY</td>\n",
       "      <td>H-1B</td>\n",
       "      <td>Certified</td>\n",
       "    </tr>\n",
       "    <tr>\n",
       "      <th>1</th>\n",
       "      <td>File Clerk</td>\n",
       "      <td>None</td>\n",
       "      <td>29786.0</td>\n",
       "      <td>Year</td>\n",
       "      <td>15.0</td>\n",
       "      <td>SOUTH KOREA</td>\n",
       "      <td>F-1</td>\n",
       "      <td>Certified-Expired</td>\n",
       "    </tr>\n",
       "    <tr>\n",
       "      <th>2</th>\n",
       "      <td>Senior Programmer Analyst</td>\n",
       "      <td>Bachelor's</td>\n",
       "      <td>60.0</td>\n",
       "      <td>Year</td>\n",
       "      <td>0.0</td>\n",
       "      <td>INDIA</td>\n",
       "      <td>H-1B</td>\n",
       "      <td>Certified-Expired</td>\n",
       "    </tr>\n",
       "    <tr>\n",
       "      <th>3</th>\n",
       "      <td>Member of Technical Staff (Software Engineer)</td>\n",
       "      <td>Master's</td>\n",
       "      <td>119.0</td>\n",
       "      <td>Year</td>\n",
       "      <td>24.0</td>\n",
       "      <td>CHINA</td>\n",
       "      <td>H-1B</td>\n",
       "      <td>Certified-Expired</td>\n",
       "    </tr>\n",
       "    <tr>\n",
       "      <th>4</th>\n",
       "      <td>Software Development Engineer</td>\n",
       "      <td>Bachelor's</td>\n",
       "      <td>81.0</td>\n",
       "      <td>Year</td>\n",
       "      <td>12.0</td>\n",
       "      <td>CANADA</td>\n",
       "      <td>TN</td>\n",
       "      <td>Certified-Expired</td>\n",
       "    </tr>\n",
       "  </tbody>\n",
       "</table>\n",
       "</div>"
      ],
      "text/plain": [
       "                              JOB_INFO_JOB_TITLE  ...        CASE_STATUS\n",
       "0                              Software Engineer  ...          Certified\n",
       "1                                     File Clerk  ...  Certified-Expired\n",
       "2                      Senior Programmer Analyst  ...  Certified-Expired\n",
       "3  Member of Technical Staff (Software Engineer)  ...  Certified-Expired\n",
       "4                  Software Development Engineer  ...  Certified-Expired\n",
       "\n",
       "[5 rows x 8 columns]"
      ]
     },
     "execution_count": 232,
     "metadata": {},
     "output_type": "execute_result"
    }
   ],
   "source": [
    "applications = df.sample(frac=1).reset_index(drop=True)\n",
    "print(applications.shape)\n",
    "applications.head()"
   ]
  },
  {
   "cell_type": "markdown",
   "metadata": {
    "id": "ZFaYOpgs5bHx"
   },
   "source": [
    "#Mapping string columns to int representation"
   ]
  },
  {
   "cell_type": "code",
   "execution_count": 233,
   "metadata": {
    "executionInfo": {
     "elapsed": 337,
     "status": "ok",
     "timestamp": 1639079356082,
     "user": {
      "displayName": "Daniyar Imangaliyev",
      "photoUrl": "https://lh3.googleusercontent.com/a/default-user=s64",
      "userId": "11406780539198279651"
     },
     "user_tz": -360
    },
    "id": "4FE9Igj6IguQ"
   },
   "outputs": [],
   "source": [
    "applications['CASE_STATUS'] = applications['CASE_STATUS'].map({'Denied': 0,  'Certified': 1, 'Withdrawn': 2, 'Certified-Expired': 3})\n",
    "applications['JOB_INFO_EDUCATION'] = applications['JOB_INFO_EDUCATION'].map({\"Bachelor's\": 0,  \"Master's\": 1, 'Other': 2,\"Associate's\": 3,\"Doctorate\": 4,\"High School\": 5})\n",
    "applications['PW_UNIT_OF_PAY_9089'] = applications['PW_UNIT_OF_PAY_9089'].map({\"Year\": 0,  \"Hour\": 1, 'Week': 2,\"Bi-Weekly\": 3,\"Month\": 4})"
   ]
  },
  {
   "cell_type": "code",
   "execution_count": 234,
   "metadata": {
    "colab": {
     "base_uri": "https://localhost:8080/"
    },
    "executionInfo": {
     "elapsed": 6,
     "status": "ok",
     "timestamp": 1639079356083,
     "user": {
      "displayName": "Daniyar Imangaliyev",
      "photoUrl": "https://lh3.googleusercontent.com/a/default-user=s64",
      "userId": "11406780539198279651"
     },
     "user_tz": -360
    },
    "id": "C4AgWRvqlZK7",
    "outputId": "109633e9-48a0-42a7-e83f-1efd663a54c6"
   },
   "outputs": [
    {
     "data": {
      "text/plain": [
       "(381184, 8)"
      ]
     },
     "execution_count": 234,
     "metadata": {},
     "output_type": "execute_result"
    }
   ],
   "source": [
    "applications = applications.dropna()\n",
    "applications.shape"
   ]
  },
  {
   "cell_type": "markdown",
   "metadata": {
    "id": "ud2txsNQ1PU8"
   },
   "source": [
    "#Drop all rows which have None attributes"
   ]
  },
  {
   "cell_type": "code",
   "execution_count": 235,
   "metadata": {
    "colab": {
     "base_uri": "https://localhost:8080/"
    },
    "executionInfo": {
     "elapsed": 5,
     "status": "ok",
     "timestamp": 1639079356083,
     "user": {
      "displayName": "Daniyar Imangaliyev",
      "photoUrl": "https://lh3.googleusercontent.com/a/default-user=s64",
      "userId": "11406780539198279651"
     },
     "user_tz": -360
    },
    "id": "WVyC1ehYIguQ",
    "outputId": "14ad9ff7-fe74-47ad-fadf-a0b87e6d3155"
   },
   "outputs": [
    {
     "data": {
      "text/plain": [
       "(24000, 8)"
      ]
     },
     "execution_count": 235,
     "metadata": {},
     "output_type": "execute_result"
    }
   ],
   "source": [
    "denied = applications.loc[applications['CASE_STATUS'] == 0]\n",
    "denied = denied.iloc[:12000]\n",
    "\n",
    "certified = applications.loc[applications['CASE_STATUS'] == 1]\n",
    "certified = certified.iloc[:12000]\n",
    "\n",
    "# withdrawn = applications.loc[applications['CASE_STATUS'] == 2]\n",
    "# withdrawn = withdrawn.iloc[:5000]\n",
    "\n",
    "# certified_expired = applications.loc[applications['CASE_STATUS'] == 3]\n",
    "# certified_expired = certified_expired.iloc[:5000]\n",
    "\n",
    "result = denied.append([certified])\n",
    "result = result.sample(frac=1).reset_index(drop=True)\n",
    "result.shape"
   ]
  },
  {
   "cell_type": "markdown",
   "metadata": {
    "id": "my7BYP381emN"
   },
   "source": [
    "#Converting string values to its bit representation"
   ]
  },
  {
   "cell_type": "code",
   "execution_count": 236,
   "metadata": {
    "colab": {
     "base_uri": "https://localhost:8080/"
    },
    "executionInfo": {
     "elapsed": 56814,
     "status": "ok",
     "timestamp": 1639079412894,
     "user": {
      "displayName": "Daniyar Imangaliyev",
      "photoUrl": "https://lh3.googleusercontent.com/a/default-user=s64",
      "userId": "11406780539198279651"
     },
     "user_tz": -360
    },
    "id": "ldBBqnx8OYNx",
    "outputId": "64af31df-e2b6-4ddd-faf3-31726e39efeb"
   },
   "outputs": [
    {
     "data": {
      "text/plain": [
       "(24000, 8)"
      ]
     },
     "execution_count": 236,
     "metadata": {},
     "output_type": "execute_result"
    }
   ],
   "source": [
    "for x in result.index:\n",
    "        t = int.from_bytes(result.loc[x, 'JOB_INFO_JOB_TITLE'].encode('utf-8'), 'little')\n",
    "        result.loc[x, 'JOB_INFO_JOB_TITLE'] = t\n",
    "        \n",
    "        t = int.from_bytes(result.loc[x, 'COUNTRY_OF_CITIZENSHIP'].encode('utf-8'), 'little')\n",
    "        result.loc[x, 'COUNTRY_OF_CITIZENSHIP'] = t\n",
    "\n",
    "        # t = int.from_bytes(result.loc[x, 'CLASS_OF_ADMISSION'].encode('utf-8'), 'little')\n",
    "        # result.loc[x, 'CLASS_OF_ADMISSION'] = t\n",
    "result.shape"
   ]
  },
  {
   "cell_type": "markdown",
   "metadata": {
    "id": "QNZqzOQF1lrc"
   },
   "source": [
    "#Deviding sample to test and train data \n",
    "Devision Rate is 60% : 40%\n",
    "\n",
    "Also we can see number of case statuses"
   ]
  },
  {
   "cell_type": "code",
   "execution_count": 237,
   "metadata": {
    "colab": {
     "base_uri": "https://localhost:8080/"
    },
    "executionInfo": {
     "elapsed": 19,
     "status": "ok",
     "timestamp": 1639079412894,
     "user": {
      "displayName": "Daniyar Imangaliyev",
      "photoUrl": "https://lh3.googleusercontent.com/a/default-user=s64",
      "userId": "11406780539198279651"
     },
     "user_tz": -360
    },
    "id": "RL49QAJ_IguW",
    "outputId": "370197d9-47fa-4b99-f8e6-4e0221f2351f"
   },
   "outputs": [
    {
     "name": "stdout",
     "output_type": "stream",
     "text": [
      "0    8403\n",
      "1    8397\n",
      "Name: CASE_STATUS, dtype: int64\n",
      "1    3603\n",
      "0    3597\n",
      "Name: CASE_STATUS, dtype: int64\n"
     ]
    }
   ],
   "source": [
    "from skmultilearn.model_selection import iterative_train_test_split\n",
    "x = result.iloc[:,:-2]\n",
    "y = result[[\"CASE_STATUS\"]]\n",
    "train_features, test_features, train_labels, test_labels = train_test_split(x, y, test_size = 0.3)\n",
    "print(train_labels['CASE_STATUS'].value_counts())\n",
    "print(test_labels['CASE_STATUS'].value_counts())\n",
    "\n",
    "# train_features = train.iloc[:,:-1].values\n",
    "# test_features = test.iloc[:,:-1].values\n",
    "# train_labels = train[[\"CASE_STATUS\"]].values\n",
    "# test_labels = test[[\"CASE_STATUS\"]].values"
   ]
  },
  {
   "cell_type": "code",
   "execution_count": 238,
   "metadata": {
    "executionInfo": {
     "elapsed": 18,
     "status": "ok",
     "timestamp": 1639079412895,
     "user": {
      "displayName": "Daniyar Imangaliyev",
      "photoUrl": "https://lh3.googleusercontent.com/a/default-user=s64",
      "userId": "11406780539198279651"
     },
     "user_tz": -360
    },
    "id": "x0e5sbtIIguW"
   },
   "outputs": [],
   "source": [
    "scaler = MinMaxScaler()\n",
    "train_features = scaler.fit_transform(train_features)\n",
    "test_features = scaler.fit_transform(test_features)"
   ]
  },
  {
   "cell_type": "code",
   "execution_count": 239,
   "metadata": {
    "colab": {
     "base_uri": "https://localhost:8080/"
    },
    "executionInfo": {
     "elapsed": 17,
     "status": "ok",
     "timestamp": 1639079412895,
     "user": {
      "displayName": "Daniyar Imangaliyev",
      "photoUrl": "https://lh3.googleusercontent.com/a/default-user=s64",
      "userId": "11406780539198279651"
     },
     "user_tz": -360
    },
    "id": "fQphfMStIguX",
    "outputId": "252d1b62-fc5d-4868-bfba-5713c9f18644"
   },
   "outputs": [
    {
     "data": {
      "text/plain": [
       "array([[3.83721429e-121, 2.00000000e-001, 1.24389732e-005,\n",
       "        0.00000000e+000, 4.00000000e-002, 2.61153899e-059],\n",
       "       [5.55977298e-191, 2.00000000e-001, 1.41749874e-002,\n",
       "        0.00000000e+000, 0.00000000e+000, 3.34539547e-056],\n",
       "       [2.17178632e-193, 8.00000000e-001, 1.89694342e-005,\n",
       "        0.00000000e+000, 0.00000000e+000, 3.34640412e-056],\n",
       "       ...,\n",
       "       [3.06644655e-210, 0.00000000e+000, 1.89694342e-005,\n",
       "        0.00000000e+000, 3.20000000e-001, 3.34640412e-056],\n",
       "       [2.17178632e-193, 0.00000000e+000, 1.53932294e-005,\n",
       "        0.00000000e+000, 0.00000000e+000, 3.34539547e-056],\n",
       "       [2.11716495e-140, 0.00000000e+000, 2.53444080e-005,\n",
       "        0.00000000e+000, 0.00000000e+000, 4.58062478e-056]])"
      ]
     },
     "execution_count": 239,
     "metadata": {},
     "output_type": "execute_result"
    }
   ],
   "source": [
    "train_features"
   ]
  },
  {
   "cell_type": "code",
   "execution_count": 240,
   "metadata": {
    "executionInfo": {
     "elapsed": 15,
     "status": "ok",
     "timestamp": 1639079412895,
     "user": {
      "displayName": "Daniyar Imangaliyev",
      "photoUrl": "https://lh3.googleusercontent.com/a/default-user=s64",
      "userId": "11406780539198279651"
     },
     "user_tz": -360
    },
    "id": "RqJD2ogaIguX"
   },
   "outputs": [],
   "source": [
    "import tensorflow as tf\n",
    "import matplotlib.pyplot as plt\n",
    "from tensorflow import keras\n",
    "from tensorflow.keras import datasets, layers, models\n",
    "from keras.models import Sequential\n",
    "from keras.layers import Dense, Dropout, Flatten, Activation"
   ]
  },
  {
   "cell_type": "markdown",
   "metadata": {
    "id": "InA6uG_o1yhj"
   },
   "source": [
    "#Creating Model "
   ]
  },
  {
   "cell_type": "code",
   "execution_count": 311,
   "metadata": {
    "executionInfo": {
     "elapsed": 478,
     "status": "ok",
     "timestamp": 1639080743601,
     "user": {
      "displayName": "Daniyar Imangaliyev",
      "photoUrl": "https://lh3.googleusercontent.com/a/default-user=s64",
      "userId": "11406780539198279651"
     },
     "user_tz": -360
    },
    "id": "VwZVQxTQIguX"
   },
   "outputs": [],
   "source": [
    "model = Sequential()\n",
    "model.add(Dense(20, input_dim = len(train_features[0, :]), activation = \"relu\"))\n",
    "# model.add(Dropout(0.5))\n",
    "model.add(Dense(200, activation = \"relu\"))\n",
    "# model.add(Dropout(0.5))\n",
    "# model.add(Dense(400, activation = \"relu\"))\n",
    "# model.add(Dense(600, activation = \"relu\"))\n",
    "# model.add(Dropout(0.5))\n",
    "model.add(Dense(2, activation = \"sigmoid\"))\n",
    "\n",
    "sgd = tf.keras.optimizers.SGD(learning_rate=0.02, decay=1e-7,momentum=0.9, nesterov=True, name=\"SGD\")\n",
    "model.compile(loss='sparse_categorical_crossentropy', optimizer=sgd, metrics=['accuracy'])\n",
    "# opt = keras.optimizers.Adam(lr=0.001)\n",
    "# model.compile(loss='sparse_categorical_crossentropy', optimizer=opt, metrics=['accuracy'])"
   ]
  },
  {
   "cell_type": "code",
   "execution_count": 312,
   "metadata": {
    "colab": {
     "base_uri": "https://localhost:8080/"
    },
    "executionInfo": {
     "elapsed": 4,
     "status": "ok",
     "timestamp": 1639080743601,
     "user": {
      "displayName": "Daniyar Imangaliyev",
      "photoUrl": "https://lh3.googleusercontent.com/a/default-user=s64",
      "userId": "11406780539198279651"
     },
     "user_tz": -360
    },
    "id": "zJJx179_IguY",
    "outputId": "d7caea6b-6e5c-4e3d-f227-e04c0751cd5b"
   },
   "outputs": [
    {
     "name": "stdout",
     "output_type": "stream",
     "text": [
      "Model: \"sequential_26\"\n",
      "_________________________________________________________________\n",
      " Layer (type)                Output Shape              Param #   \n",
      "=================================================================\n",
      " dense_81 (Dense)            (None, 20)                140       \n",
      "                                                                 \n",
      " dense_82 (Dense)            (None, 200)               4200      \n",
      "                                                                 \n",
      " dense_83 (Dense)            (None, 400)               80400     \n",
      "                                                                 \n",
      " dense_84 (Dense)            (None, 600)               240600    \n",
      "                                                                 \n",
      " dense_85 (Dense)            (None, 2)                 1202      \n",
      "                                                                 \n",
      "=================================================================\n",
      "Total params: 326,542\n",
      "Trainable params: 326,542\n",
      "Non-trainable params: 0\n",
      "_________________________________________________________________\n"
     ]
    }
   ],
   "source": [
    "model.summary()"
   ]
  },
  {
   "cell_type": "code",
   "execution_count": 313,
   "metadata": {
    "colab": {
     "base_uri": "https://localhost:8080/"
    },
    "executionInfo": {
     "elapsed": 322569,
     "status": "ok",
     "timestamp": 1639081066168,
     "user": {
      "displayName": "Daniyar Imangaliyev",
      "photoUrl": "https://lh3.googleusercontent.com/a/default-user=s64",
      "userId": "11406780539198279651"
     },
     "user_tz": -360
    },
    "id": "1mMfG3o0IguY",
    "outputId": "77fdae3f-e0b2-467e-86e8-edb8a873fb2b"
   },
   "outputs": [
    {
     "name": "stdout",
     "output_type": "stream",
     "text": [
      "Epoch 1/150\n",
      "263/263 [==============================] - 2s 7ms/step - loss: 0.6802 - accuracy: 0.5461\n",
      "Epoch 2/150\n",
      "263/263 [==============================] - 2s 7ms/step - loss: 0.6710 - accuracy: 0.5676\n",
      "Epoch 3/150\n",
      "263/263 [==============================] - 2s 7ms/step - loss: 0.6677 - accuracy: 0.5748\n",
      "Epoch 4/150\n",
      "263/263 [==============================] - 2s 7ms/step - loss: 0.6648 - accuracy: 0.5718\n",
      "Epoch 5/150\n",
      "263/263 [==============================] - 2s 7ms/step - loss: 0.6636 - accuracy: 0.5745\n",
      "Epoch 6/150\n",
      "263/263 [==============================] - 2s 7ms/step - loss: 0.6622 - accuracy: 0.5770\n",
      "Epoch 7/150\n",
      "263/263 [==============================] - 2s 6ms/step - loss: 0.6608 - accuracy: 0.5798\n",
      "Epoch 8/150\n",
      "263/263 [==============================] - 2s 6ms/step - loss: 0.6607 - accuracy: 0.5743\n",
      "Epoch 9/150\n",
      "263/263 [==============================] - 2s 6ms/step - loss: 0.6597 - accuracy: 0.5790\n",
      "Epoch 10/150\n",
      "263/263 [==============================] - 2s 6ms/step - loss: 0.6591 - accuracy: 0.5836\n",
      "Epoch 11/150\n",
      "263/263 [==============================] - 2s 6ms/step - loss: 0.6585 - accuracy: 0.5835\n",
      "Epoch 12/150\n",
      "263/263 [==============================] - 2s 6ms/step - loss: 0.6582 - accuracy: 0.5867\n",
      "Epoch 13/150\n",
      "263/263 [==============================] - 2s 7ms/step - loss: 0.6573 - accuracy: 0.5840\n",
      "Epoch 14/150\n",
      "263/263 [==============================] - 2s 7ms/step - loss: 0.6585 - accuracy: 0.5779\n",
      "Epoch 15/150\n",
      "263/263 [==============================] - 2s 7ms/step - loss: 0.6569 - accuracy: 0.5842\n",
      "Epoch 16/150\n",
      "263/263 [==============================] - 2s 7ms/step - loss: 0.6567 - accuracy: 0.5851\n",
      "Epoch 17/150\n",
      "263/263 [==============================] - 2s 7ms/step - loss: 0.6557 - accuracy: 0.5896\n",
      "Epoch 18/150\n",
      "263/263 [==============================] - 2s 7ms/step - loss: 0.6551 - accuracy: 0.5893\n",
      "Epoch 19/150\n",
      "263/263 [==============================] - 2s 6ms/step - loss: 0.6562 - accuracy: 0.5880\n",
      "Epoch 20/150\n",
      "263/263 [==============================] - 2s 7ms/step - loss: 0.6543 - accuracy: 0.5911\n",
      "Epoch 21/150\n",
      "263/263 [==============================] - 2s 7ms/step - loss: 0.6542 - accuracy: 0.5890\n",
      "Epoch 22/150\n",
      "263/263 [==============================] - 2s 7ms/step - loss: 0.6539 - accuracy: 0.5915\n",
      "Epoch 23/150\n",
      "263/263 [==============================] - 2s 7ms/step - loss: 0.6541 - accuracy: 0.5914\n",
      "Epoch 24/150\n",
      "263/263 [==============================] - 2s 7ms/step - loss: 0.6528 - accuracy: 0.5952\n",
      "Epoch 25/150\n",
      "263/263 [==============================] - 2s 7ms/step - loss: 0.6530 - accuracy: 0.5949\n",
      "Epoch 26/150\n",
      "263/263 [==============================] - 2s 7ms/step - loss: 0.6523 - accuracy: 0.5971\n",
      "Epoch 27/150\n",
      "263/263 [==============================] - 2s 6ms/step - loss: 0.6523 - accuracy: 0.5938\n",
      "Epoch 28/150\n",
      "263/263 [==============================] - 2s 7ms/step - loss: 0.6509 - accuracy: 0.5998\n",
      "Epoch 29/150\n",
      "263/263 [==============================] - 2s 6ms/step - loss: 0.6511 - accuracy: 0.6001\n",
      "Epoch 30/150\n",
      "263/263 [==============================] - 2s 7ms/step - loss: 0.6498 - accuracy: 0.6030\n",
      "Epoch 31/150\n",
      "263/263 [==============================] - 2s 7ms/step - loss: 0.6504 - accuracy: 0.5963\n",
      "Epoch 32/150\n",
      "263/263 [==============================] - 2s 6ms/step - loss: 0.6497 - accuracy: 0.6015\n",
      "Epoch 33/150\n",
      "263/263 [==============================] - 2s 6ms/step - loss: 0.6493 - accuracy: 0.5989\n",
      "Epoch 34/150\n",
      "263/263 [==============================] - 2s 7ms/step - loss: 0.6496 - accuracy: 0.6004\n",
      "Epoch 35/150\n",
      "263/263 [==============================] - 2s 7ms/step - loss: 0.6499 - accuracy: 0.5976\n",
      "Epoch 36/150\n",
      "263/263 [==============================] - 2s 7ms/step - loss: 0.6482 - accuracy: 0.6025\n",
      "Epoch 37/150\n",
      "263/263 [==============================] - 2s 7ms/step - loss: 0.6484 - accuracy: 0.6057\n",
      "Epoch 38/150\n",
      "263/263 [==============================] - 2s 7ms/step - loss: 0.6476 - accuracy: 0.6048\n",
      "Epoch 39/150\n",
      "263/263 [==============================] - 2s 7ms/step - loss: 0.6479 - accuracy: 0.6019\n",
      "Epoch 40/150\n",
      "263/263 [==============================] - 2s 7ms/step - loss: 0.6476 - accuracy: 0.6002\n",
      "Epoch 41/150\n",
      "263/263 [==============================] - 2s 7ms/step - loss: 0.6480 - accuracy: 0.6033\n",
      "Epoch 42/150\n",
      "263/263 [==============================] - 2s 7ms/step - loss: 0.6486 - accuracy: 0.5979\n",
      "Epoch 43/150\n",
      "263/263 [==============================] - 2s 6ms/step - loss: 0.6473 - accuracy: 0.6036\n",
      "Epoch 44/150\n",
      "263/263 [==============================] - 2s 6ms/step - loss: 0.6470 - accuracy: 0.6068\n",
      "Epoch 45/150\n",
      "263/263 [==============================] - 2s 7ms/step - loss: 0.6465 - accuracy: 0.6033\n",
      "Epoch 46/150\n",
      "263/263 [==============================] - 2s 7ms/step - loss: 0.6473 - accuracy: 0.6016\n",
      "Epoch 47/150\n",
      "263/263 [==============================] - 2s 6ms/step - loss: 0.6479 - accuracy: 0.6013\n",
      "Epoch 48/150\n",
      "263/263 [==============================] - 2s 7ms/step - loss: 0.6465 - accuracy: 0.6040\n",
      "Epoch 49/150\n",
      "263/263 [==============================] - 2s 6ms/step - loss: 0.6468 - accuracy: 0.6043\n",
      "Epoch 50/150\n",
      "263/263 [==============================] - 2s 6ms/step - loss: 0.6468 - accuracy: 0.6058\n",
      "Epoch 51/150\n",
      "263/263 [==============================] - 2s 7ms/step - loss: 0.6466 - accuracy: 0.6049\n",
      "Epoch 52/150\n",
      "263/263 [==============================] - 2s 6ms/step - loss: 0.6467 - accuracy: 0.6045\n",
      "Epoch 53/150\n",
      "263/263 [==============================] - 2s 7ms/step - loss: 0.6468 - accuracy: 0.6043\n",
      "Epoch 54/150\n",
      "263/263 [==============================] - 2s 7ms/step - loss: 0.6464 - accuracy: 0.6062\n",
      "Epoch 55/150\n",
      "263/263 [==============================] - 2s 7ms/step - loss: 0.6460 - accuracy: 0.6051\n",
      "Epoch 56/150\n",
      "263/263 [==============================] - 2s 7ms/step - loss: 0.6470 - accuracy: 0.6017\n",
      "Epoch 57/150\n",
      "263/263 [==============================] - 2s 7ms/step - loss: 0.6473 - accuracy: 0.6003\n",
      "Epoch 58/150\n",
      "263/263 [==============================] - 2s 8ms/step - loss: 0.6462 - accuracy: 0.6036\n",
      "Epoch 59/150\n",
      "263/263 [==============================] - 2s 7ms/step - loss: 0.6460 - accuracy: 0.6069\n",
      "Epoch 60/150\n",
      "263/263 [==============================] - 2s 7ms/step - loss: 0.6457 - accuracy: 0.6066\n",
      "Epoch 61/150\n",
      "263/263 [==============================] - 2s 6ms/step - loss: 0.6487 - accuracy: 0.5980\n",
      "Epoch 62/150\n",
      "263/263 [==============================] - 2s 7ms/step - loss: 0.6462 - accuracy: 0.6046\n",
      "Epoch 63/150\n",
      "263/263 [==============================] - 2s 7ms/step - loss: 0.6459 - accuracy: 0.6064\n",
      "Epoch 64/150\n",
      "263/263 [==============================] - 2s 7ms/step - loss: 0.6466 - accuracy: 0.6053\n",
      "Epoch 65/150\n",
      "263/263 [==============================] - 2s 7ms/step - loss: 0.6455 - accuracy: 0.6062\n",
      "Epoch 66/150\n",
      "263/263 [==============================] - 2s 7ms/step - loss: 0.6463 - accuracy: 0.6028\n",
      "Epoch 67/150\n",
      "263/263 [==============================] - 2s 7ms/step - loss: 0.6459 - accuracy: 0.6047\n",
      "Epoch 68/150\n",
      "263/263 [==============================] - 2s 6ms/step - loss: 0.6453 - accuracy: 0.6058\n",
      "Epoch 69/150\n",
      "263/263 [==============================] - 2s 7ms/step - loss: 0.6459 - accuracy: 0.6037\n",
      "Epoch 70/150\n",
      "263/263 [==============================] - 2s 7ms/step - loss: 0.6459 - accuracy: 0.6060\n",
      "Epoch 71/150\n",
      "263/263 [==============================] - 2s 7ms/step - loss: 0.6456 - accuracy: 0.6051\n",
      "Epoch 72/150\n",
      "263/263 [==============================] - 2s 7ms/step - loss: 0.6455 - accuracy: 0.6057\n",
      "Epoch 73/150\n",
      "263/263 [==============================] - 2s 7ms/step - loss: 0.6461 - accuracy: 0.6071\n",
      "Epoch 74/150\n",
      "263/263 [==============================] - 2s 7ms/step - loss: 0.6459 - accuracy: 0.6063\n",
      "Epoch 75/150\n",
      "263/263 [==============================] - 2s 6ms/step - loss: 0.6455 - accuracy: 0.6051\n",
      "Epoch 76/150\n",
      "263/263 [==============================] - 2s 7ms/step - loss: 0.6458 - accuracy: 0.6061\n",
      "Epoch 77/150\n",
      "263/263 [==============================] - 2s 7ms/step - loss: 0.6456 - accuracy: 0.6046\n",
      "Epoch 78/150\n",
      "263/263 [==============================] - 2s 7ms/step - loss: 0.6454 - accuracy: 0.6057\n",
      "Epoch 79/150\n",
      "263/263 [==============================] - 2s 6ms/step - loss: 0.6457 - accuracy: 0.6093\n",
      "Epoch 80/150\n",
      "263/263 [==============================] - 2s 7ms/step - loss: 0.6456 - accuracy: 0.6090\n",
      "Epoch 81/150\n",
      "263/263 [==============================] - 2s 7ms/step - loss: 0.6461 - accuracy: 0.6054\n",
      "Epoch 82/150\n",
      "263/263 [==============================] - 2s 7ms/step - loss: 0.6458 - accuracy: 0.6069\n",
      "Epoch 83/150\n",
      "263/263 [==============================] - 2s 6ms/step - loss: 0.6459 - accuracy: 0.6063\n",
      "Epoch 84/150\n",
      "263/263 [==============================] - 2s 6ms/step - loss: 0.6454 - accuracy: 0.6071\n",
      "Epoch 85/150\n",
      "263/263 [==============================] - 2s 7ms/step - loss: 0.6462 - accuracy: 0.6036\n",
      "Epoch 86/150\n",
      "263/263 [==============================] - 2s 7ms/step - loss: 0.6456 - accuracy: 0.6059\n",
      "Epoch 87/150\n",
      "263/263 [==============================] - 2s 7ms/step - loss: 0.6458 - accuracy: 0.6074\n",
      "Epoch 88/150\n",
      "263/263 [==============================] - 2s 7ms/step - loss: 0.6455 - accuracy: 0.6077\n",
      "Epoch 89/150\n",
      "263/263 [==============================] - 2s 6ms/step - loss: 0.6458 - accuracy: 0.6035\n",
      "Epoch 90/150\n",
      "263/263 [==============================] - 2s 7ms/step - loss: 0.6455 - accuracy: 0.6068\n",
      "Epoch 91/150\n",
      "263/263 [==============================] - 2s 7ms/step - loss: 0.6460 - accuracy: 0.6074\n",
      "Epoch 92/150\n",
      "263/263 [==============================] - 2s 7ms/step - loss: 0.6449 - accuracy: 0.6077\n",
      "Epoch 93/150\n",
      "263/263 [==============================] - 2s 7ms/step - loss: 0.6457 - accuracy: 0.6055\n",
      "Epoch 94/150\n",
      "263/263 [==============================] - 2s 7ms/step - loss: 0.6449 - accuracy: 0.6068\n",
      "Epoch 95/150\n",
      "263/263 [==============================] - 2s 7ms/step - loss: 0.6450 - accuracy: 0.6054\n",
      "Epoch 96/150\n",
      "263/263 [==============================] - 2s 7ms/step - loss: 0.6453 - accuracy: 0.6069\n",
      "Epoch 97/150\n",
      "263/263 [==============================] - 2s 7ms/step - loss: 0.6457 - accuracy: 0.6055\n",
      "Epoch 98/150\n",
      "263/263 [==============================] - 2s 7ms/step - loss: 0.6450 - accuracy: 0.6069\n",
      "Epoch 99/150\n",
      "263/263 [==============================] - 2s 7ms/step - loss: 0.6455 - accuracy: 0.6062\n",
      "Epoch 100/150\n",
      "263/263 [==============================] - 2s 7ms/step - loss: 0.6448 - accuracy: 0.6072\n",
      "Epoch 101/150\n",
      "263/263 [==============================] - 2s 7ms/step - loss: 0.6450 - accuracy: 0.6077\n",
      "Epoch 102/150\n",
      "263/263 [==============================] - 2s 7ms/step - loss: 0.6456 - accuracy: 0.6062\n",
      "Epoch 103/150\n",
      "263/263 [==============================] - 2s 7ms/step - loss: 0.6452 - accuracy: 0.6047\n",
      "Epoch 104/150\n",
      "263/263 [==============================] - 2s 6ms/step - loss: 0.6451 - accuracy: 0.6080\n",
      "Epoch 105/150\n",
      "263/263 [==============================] - 2s 7ms/step - loss: 0.6450 - accuracy: 0.6037\n",
      "Epoch 106/150\n",
      "263/263 [==============================] - 2s 7ms/step - loss: 0.6446 - accuracy: 0.6070\n",
      "Epoch 107/150\n",
      "263/263 [==============================] - 2s 7ms/step - loss: 0.6456 - accuracy: 0.6060\n",
      "Epoch 108/150\n",
      "263/263 [==============================] - 2s 7ms/step - loss: 0.6447 - accuracy: 0.6061\n",
      "Epoch 109/150\n",
      "263/263 [==============================] - 2s 6ms/step - loss: 0.6447 - accuracy: 0.6083\n",
      "Epoch 110/150\n",
      "263/263 [==============================] - 2s 6ms/step - loss: 0.6452 - accuracy: 0.6078\n",
      "Epoch 111/150\n",
      "263/263 [==============================] - 2s 6ms/step - loss: 0.6457 - accuracy: 0.6020\n",
      "Epoch 112/150\n",
      "263/263 [==============================] - 2s 7ms/step - loss: 0.6448 - accuracy: 0.6076\n",
      "Epoch 113/150\n",
      "263/263 [==============================] - 2s 7ms/step - loss: 0.6449 - accuracy: 0.6067\n",
      "Epoch 114/150\n",
      "263/263 [==============================] - 2s 6ms/step - loss: 0.6449 - accuracy: 0.6066\n",
      "Epoch 115/150\n",
      "263/263 [==============================] - 2s 7ms/step - loss: 0.6447 - accuracy: 0.6083\n",
      "Epoch 116/150\n",
      "263/263 [==============================] - 2s 7ms/step - loss: 0.6455 - accuracy: 0.6065\n",
      "Epoch 117/150\n",
      "263/263 [==============================] - 2s 7ms/step - loss: 0.6451 - accuracy: 0.6068\n",
      "Epoch 118/150\n",
      "263/263 [==============================] - 2s 7ms/step - loss: 0.6452 - accuracy: 0.6079\n",
      "Epoch 119/150\n",
      "263/263 [==============================] - 2s 7ms/step - loss: 0.6455 - accuracy: 0.6042\n",
      "Epoch 120/150\n",
      "263/263 [==============================] - 2s 7ms/step - loss: 0.6450 - accuracy: 0.6074\n",
      "Epoch 121/150\n",
      "263/263 [==============================] - 2s 7ms/step - loss: 0.6445 - accuracy: 0.6070\n",
      "Epoch 122/150\n",
      "263/263 [==============================] - 2s 7ms/step - loss: 0.6450 - accuracy: 0.6076\n",
      "Epoch 123/150\n",
      "263/263 [==============================] - 2s 7ms/step - loss: 0.6451 - accuracy: 0.6055\n",
      "Epoch 124/150\n",
      "263/263 [==============================] - 2s 7ms/step - loss: 0.6448 - accuracy: 0.6074\n",
      "Epoch 125/150\n",
      "263/263 [==============================] - 2s 7ms/step - loss: 0.6454 - accuracy: 0.6085\n",
      "Epoch 126/150\n",
      "263/263 [==============================] - 2s 7ms/step - loss: 0.6445 - accuracy: 0.6079\n",
      "Epoch 127/150\n",
      "263/263 [==============================] - 2s 7ms/step - loss: 0.6446 - accuracy: 0.6070\n",
      "Epoch 128/150\n",
      "263/263 [==============================] - 2s 7ms/step - loss: 0.6448 - accuracy: 0.6094\n",
      "Epoch 129/150\n",
      "263/263 [==============================] - 2s 7ms/step - loss: 0.6457 - accuracy: 0.6070\n",
      "Epoch 130/150\n",
      "263/263 [==============================] - 2s 7ms/step - loss: 0.6451 - accuracy: 0.6058\n",
      "Epoch 131/150\n",
      "263/263 [==============================] - 2s 7ms/step - loss: 0.6437 - accuracy: 0.6077\n",
      "Epoch 132/150\n",
      "263/263 [==============================] - 2s 7ms/step - loss: 0.6451 - accuracy: 0.6081\n",
      "Epoch 133/150\n",
      "263/263 [==============================] - 2s 8ms/step - loss: 0.6448 - accuracy: 0.6088\n",
      "Epoch 134/150\n",
      "263/263 [==============================] - 2s 7ms/step - loss: 0.6451 - accuracy: 0.6081\n",
      "Epoch 135/150\n",
      "263/263 [==============================] - 2s 7ms/step - loss: 0.6450 - accuracy: 0.6069\n",
      "Epoch 136/150\n",
      "263/263 [==============================] - 2s 7ms/step - loss: 0.6445 - accuracy: 0.6082\n",
      "Epoch 137/150\n",
      "263/263 [==============================] - 2s 7ms/step - loss: 0.6448 - accuracy: 0.6078\n",
      "Epoch 138/150\n",
      "263/263 [==============================] - 2s 7ms/step - loss: 0.6447 - accuracy: 0.6089\n",
      "Epoch 139/150\n",
      "263/263 [==============================] - 2s 7ms/step - loss: 0.6446 - accuracy: 0.6071\n",
      "Epoch 140/150\n",
      "263/263 [==============================] - 2s 7ms/step - loss: 0.6446 - accuracy: 0.6067\n",
      "Epoch 141/150\n",
      "263/263 [==============================] - 2s 7ms/step - loss: 0.6442 - accuracy: 0.6090\n",
      "Epoch 142/150\n",
      "263/263 [==============================] - 2s 7ms/step - loss: 0.6447 - accuracy: 0.6074\n",
      "Epoch 143/150\n",
      "263/263 [==============================] - 2s 7ms/step - loss: 0.6446 - accuracy: 0.6071\n",
      "Epoch 144/150\n",
      "263/263 [==============================] - 2s 7ms/step - loss: 0.6450 - accuracy: 0.6073\n",
      "Epoch 145/150\n",
      "263/263 [==============================] - 2s 7ms/step - loss: 0.6444 - accuracy: 0.6067\n",
      "Epoch 146/150\n",
      "263/263 [==============================] - 2s 7ms/step - loss: 0.6447 - accuracy: 0.6081\n",
      "Epoch 147/150\n",
      "263/263 [==============================] - 2s 7ms/step - loss: 0.6440 - accuracy: 0.6077\n",
      "Epoch 148/150\n",
      "263/263 [==============================] - 2s 7ms/step - loss: 0.6447 - accuracy: 0.6069\n",
      "Epoch 149/150\n",
      "263/263 [==============================] - 2s 7ms/step - loss: 0.6454 - accuracy: 0.6064\n",
      "Epoch 150/150\n",
      "263/263 [==============================] - 2s 7ms/step - loss: 0.6444 - accuracy: 0.6065\n"
     ]
    }
   ],
   "source": [
    "history = model.fit(train_features, train_labels, epochs = 150, batch_size = 64)"
   ]
  },
  {
   "cell_type": "code",
   "execution_count": 314,
   "metadata": {
    "colab": {
     "base_uri": "https://localhost:8080/"
    },
    "executionInfo": {
     "elapsed": 791,
     "status": "ok",
     "timestamp": 1639081066955,
     "user": {
      "displayName": "Daniyar Imangaliyev",
      "photoUrl": "https://lh3.googleusercontent.com/a/default-user=s64",
      "userId": "11406780539198279651"
     },
     "user_tz": -360
    },
    "id": "NNaMDRpuIguY",
    "outputId": "0f46cfd0-5b8f-44b4-e60d-5130a4058c55"
   },
   "outputs": [
    {
     "name": "stdout",
     "output_type": "stream",
     "text": [
      "113/113 [==============================] - 1s 3ms/step - loss: 0.6641 - accuracy: 0.5785\n"
     ]
    }
   ],
   "source": [
    "score = model.evaluate(test_features, test_labels, batch_size = 64)"
   ]
  },
  {
   "cell_type": "code",
   "execution_count": 315,
   "metadata": {
    "colab": {
     "base_uri": "https://localhost:8080/"
    },
    "executionInfo": {
     "elapsed": 3,
     "status": "ok",
     "timestamp": 1639081066955,
     "user": {
      "displayName": "Daniyar Imangaliyev",
      "photoUrl": "https://lh3.googleusercontent.com/a/default-user=s64",
      "userId": "11406780539198279651"
     },
     "user_tz": -360
    },
    "id": "AowRLu4hIguY",
    "outputId": "70dbbd00-732b-486f-a398-e19bf79f7792"
   },
   "outputs": [
    {
     "data": {
      "text/plain": [
       "[0.664118766784668, 0.5784721970558167]"
      ]
     },
     "execution_count": 315,
     "metadata": {},
     "output_type": "execute_result"
    }
   ],
   "source": [
    "score"
   ]
  },
  {
   "cell_type": "code",
   "execution_count": 316,
   "metadata": {
    "executionInfo": {
     "elapsed": 586,
     "status": "ok",
     "timestamp": 1639081067539,
     "user": {
      "displayName": "Daniyar Imangaliyev",
      "photoUrl": "https://lh3.googleusercontent.com/a/default-user=s64",
      "userId": "11406780539198279651"
     },
     "user_tz": -360
    },
    "id": "GyKsJBvXIguZ"
   },
   "outputs": [],
   "source": [
    "preds = model.predict(test_features, batch_size=None, verbose=0, steps = None)"
   ]
  },
  {
   "cell_type": "code",
   "execution_count": 317,
   "metadata": {
    "executionInfo": {
     "elapsed": 10,
     "status": "ok",
     "timestamp": 1639081067541,
     "user": {
      "displayName": "Daniyar Imangaliyev",
      "photoUrl": "https://lh3.googleusercontent.com/a/default-user=s64",
      "userId": "11406780539198279651"
     },
     "user_tz": -360
    },
    "id": "iRbZrZycIguZ"
   },
   "outputs": [],
   "source": [
    "test_prediction_label = np.argmax(preds.T, axis = 0)"
   ]
  },
  {
   "cell_type": "code",
   "execution_count": 318,
   "metadata": {
    "colab": {
     "base_uri": "https://localhost:8080/",
     "height": 423
    },
    "executionInfo": {
     "elapsed": 10,
     "status": "ok",
     "timestamp": 1639081067542,
     "user": {
      "displayName": "Daniyar Imangaliyev",
      "photoUrl": "https://lh3.googleusercontent.com/a/default-user=s64",
      "userId": "11406780539198279651"
     },
     "user_tz": -360
    },
    "id": "iph7YwOFIguZ",
    "outputId": "9bff4fb7-28cf-46cd-92a0-86c98d34525f"
   },
   "outputs": [
    {
     "data": {
      "text/html": [
       "<div>\n",
       "<style scoped>\n",
       "    .dataframe tbody tr th:only-of-type {\n",
       "        vertical-align: middle;\n",
       "    }\n",
       "\n",
       "    .dataframe tbody tr th {\n",
       "        vertical-align: top;\n",
       "    }\n",
       "\n",
       "    .dataframe thead th {\n",
       "        text-align: right;\n",
       "    }\n",
       "</style>\n",
       "<table border=\"1\" class=\"dataframe\">\n",
       "  <thead>\n",
       "    <tr style=\"text-align: right;\">\n",
       "      <th></th>\n",
       "      <th>0</th>\n",
       "    </tr>\n",
       "  </thead>\n",
       "  <tbody>\n",
       "    <tr>\n",
       "      <th>0</th>\n",
       "      <td>0</td>\n",
       "    </tr>\n",
       "    <tr>\n",
       "      <th>1</th>\n",
       "      <td>1</td>\n",
       "    </tr>\n",
       "    <tr>\n",
       "      <th>2</th>\n",
       "      <td>1</td>\n",
       "    </tr>\n",
       "    <tr>\n",
       "      <th>3</th>\n",
       "      <td>0</td>\n",
       "    </tr>\n",
       "    <tr>\n",
       "      <th>4</th>\n",
       "      <td>0</td>\n",
       "    </tr>\n",
       "    <tr>\n",
       "      <th>...</th>\n",
       "      <td>...</td>\n",
       "    </tr>\n",
       "    <tr>\n",
       "      <th>7195</th>\n",
       "      <td>0</td>\n",
       "    </tr>\n",
       "    <tr>\n",
       "      <th>7196</th>\n",
       "      <td>0</td>\n",
       "    </tr>\n",
       "    <tr>\n",
       "      <th>7197</th>\n",
       "      <td>1</td>\n",
       "    </tr>\n",
       "    <tr>\n",
       "      <th>7198</th>\n",
       "      <td>1</td>\n",
       "    </tr>\n",
       "    <tr>\n",
       "      <th>7199</th>\n",
       "      <td>0</td>\n",
       "    </tr>\n",
       "  </tbody>\n",
       "</table>\n",
       "<p>7200 rows × 1 columns</p>\n",
       "</div>"
      ],
      "text/plain": [
       "      0\n",
       "0     0\n",
       "1     1\n",
       "2     1\n",
       "3     0\n",
       "4     0\n",
       "...  ..\n",
       "7195  0\n",
       "7196  0\n",
       "7197  1\n",
       "7198  1\n",
       "7199  0\n",
       "\n",
       "[7200 rows x 1 columns]"
      ]
     },
     "execution_count": 318,
     "metadata": {},
     "output_type": "execute_result"
    }
   ],
   "source": [
    "pred_test_labels = []\n",
    "for row in test_prediction_label:\n",
    "        pred_test_labels.append(row)\n",
    "pd.DataFrame(pred_test_labels)"
   ]
  },
  {
   "cell_type": "code",
   "execution_count": 319,
   "metadata": {
    "colab": {
     "base_uri": "https://localhost:8080/"
    },
    "executionInfo": {
     "elapsed": 10,
     "status": "ok",
     "timestamp": 1639081067543,
     "user": {
      "displayName": "Daniyar Imangaliyev",
      "photoUrl": "https://lh3.googleusercontent.com/a/default-user=s64",
      "userId": "11406780539198279651"
     },
     "user_tz": -360
    },
    "id": "7ORwjt_-IguZ",
    "outputId": "07147950-e12c-4416-e17b-3a5e1e368b13"
   },
   "outputs": [
    {
     "name": "stdout",
     "output_type": "stream",
     "text": [
      "Classification Report for Test Data\n",
      "\n",
      "              precision    recall  f1-score   support\n",
      "\n",
      "           0       0.62      0.57      0.59      3872\n",
      "           1       0.54      0.59      0.56      3328\n",
      "\n",
      "    accuracy                           0.58      7200\n",
      "   macro avg       0.58      0.58      0.58      7200\n",
      "weighted avg       0.58      0.58      0.58      7200\n",
      "\n"
     ]
    }
   ],
   "source": [
    "from sklearn.metrics import classification_report\n",
    "print(\"Classification Report for Test Data\\n\")\n",
    "print(classification_report(test_prediction_label, test_labels))"
   ]
  },
  {
   "cell_type": "code",
   "execution_count": 320,
   "metadata": {
    "colab": {
     "base_uri": "https://localhost:8080/",
     "height": 590
    },
    "executionInfo": {
     "elapsed": 535,
     "status": "ok",
     "timestamp": 1639081068070,
     "user": {
      "displayName": "Daniyar Imangaliyev",
      "photoUrl": "https://lh3.googleusercontent.com/a/default-user=s64",
      "userId": "11406780539198279651"
     },
     "user_tz": -360
    },
    "id": "0yVXiXZiIguZ",
    "outputId": "79e44988-0c59-4207-960d-db6a3cc8fefc"
   },
   "outputs": [
    {
     "name": "stdout",
     "output_type": "stream",
     "text": [
      "dict_keys(['loss', 'accuracy'])\n"
     ]
    },
    {
     "data": {
      "image/png": "[encoded data removed]",
      "text/plain": [
       "<Figure size 432x288 with 1 Axes>"
      ]
     },
     "metadata": {
      "needs_background": "light"
     },
     "output_type": "display_data"
    },
    {
     "data": {
      "image/png": "[encoded data removed]",
      "text/plain": [
       "<Figure size 432x288 with 1 Axes>"
      ]
     },
     "metadata": {
      "needs_background": "light"
     },
     "output_type": "display_data"
    }
   ],
   "source": [
    "print(history.history.keys())\n",
    "# summarize history for accuracy\n",
    "plt.plot(history.history['accuracy'])\n",
    "plt.title('model accuracy')\n",
    "plt.ylabel('accuracy')\n",
    "plt.xlabel('epoch')\n",
    "plt.legend(['train', 'test'], loc='upper left')\n",
    "plt.show()\n",
    "# summarize history for loss\n",
    "plt.plot(history.history['loss'])\n",
    "plt.title('model loss')\n",
    "plt.ylabel('loss')\n",
    "plt.xlabel('epoch')\n",
    "plt.legend(['train', 'test'], loc='upper left')\n",
    "plt.show()"
   ]
  }
 ],
 "metadata": {
  "accelerator": "GPU",
  "colab": {
   "collapsed_sections": [],
   "name": "GreenCardClassification 2008-2019.ipynb",
   "provenance": []
  },
  "kernelspec": {
   "display_name": "Python 3",
   "language": "python",
   "name": "python3"
  },
  "language_info": {
   "codemirror_mode": {
    "name": "ipython",
    "version": 3
   },
   "file_extension": ".py",
   "mimetype": "text/x-python",
   "name": "python",
   "nbconvert_exporter": "python",
   "pygments_lexer": "ipython3",
   "version": "3.7.4"
  }
 },
 "nbformat": 4,
 "nbformat_minor": 1
}
